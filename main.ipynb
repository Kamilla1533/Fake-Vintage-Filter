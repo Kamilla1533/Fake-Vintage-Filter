{
  "nbformat": 4,
  "nbformat_minor": 0,
  "metadata": {
    "colab": {
      "provenance": [],
      "authorship_tag": "ABX9TyOyU1oAwqmxd8lDUGhXCxPH",
      "include_colab_link": true
    },
    "kernelspec": {
      "name": "python3",
      "display_name": "Python 3"
    },
    "language_info": {
      "name": "python"
    }
  },
  "cells": [
    {
      "cell_type": "markdown",
      "metadata": {
        "id": "view-in-github",
        "colab_type": "text"
      },
      "source": [
        "<a href=\"https://colab.research.google.com/github/Kamilla1533/Fake-Vintage-Filter/blob/main/main.ipynb\" target=\"_parent\"><img src=\"https://colab.research.google.com/assets/colab-badge.svg\" alt=\"Open In Colab\"/></a>"
      ]
    },
    {
      "cell_type": "code",
      "execution_count": 4,
      "metadata": {
        "id": "FCzqtrrJcR2Z"
      },
      "outputs": [],
      "source": [
        "import torch\n",
        "from torchvision.utils import save_image\n",
        "from PIL import Image\n",
        "import numpy as np\n",
        "import os\n",
        "import lpips\n",
        "import matplotlib.pyplot as plt"
      ]
    },
    {
      "cell_type": "code",
      "source": [
        "MODELS_DIR = '/content/drive/MyDrive/stylegan_models'"
      ],
      "metadata": {
        "id": "60CZijwFds4a"
      },
      "execution_count": null,
      "outputs": []
    },
    {
      "cell_type": "code",
      "source": [
        "CHECKPOINT_NUMBER = 100000"
      ],
      "metadata": {
        "id": "6hMZKgRXdzCL"
      },
      "execution_count": 5,
      "outputs": []
    },
    {
      "cell_type": "code",
      "source": [
        "INPUT_IMAGE_PATH = '/content/drive/MyDrive/my_test_photo.jpg'"
      ],
      "metadata": {
        "id": "i5qFRX66d22K"
      },
      "execution_count": null,
      "outputs": []
    },
    {
      "cell_type": "code",
      "source": [
        "OUTPUT_DIR = '/content/drive/MyDrive/stylegan_results/vintage_projections'\n",
        "os.makedirs(OUTPUT_DIR, exist_ok=True)"
      ],
      "metadata": {
        "id": "5MrrG_ckd6uU"
      },
      "execution_count": null,
      "outputs": []
    },
    {
      "cell_type": "code",
      "source": [
        "LEARNING_RATE = 0.01\n",
        "NUM_ITERATIONS = 1000\n",
        "LAMBDA_LPIPS = 0.8\n",
        "LAMBDA_L2 = 0.2\n",
        "TRUNC_PSI = 0.7"
      ],
      "metadata": {
        "id": "aHwnVreReCcy"
      },
      "execution_count": 3,
      "outputs": []
    },
    {
      "cell_type": "markdown",
      "source": [
        "# Загрузка обученной модели"
      ],
      "metadata": {
        "id": "qvR5ZR_4f0HA"
      }
    },
    {
      "cell_type": "code",
      "source": [
        "%cd /content/"
      ],
      "metadata": {
        "id": "27n0r_q7fo9p"
      },
      "execution_count": null,
      "outputs": []
    },
    {
      "cell_type": "code",
      "source": [
        "!git clone https://github.com/lucidrains/stylegan2-pytorch.git"
      ],
      "metadata": {
        "id": "kYVkbWsofpo0"
      },
      "execution_count": null,
      "outputs": []
    },
    {
      "cell_type": "code",
      "source": [
        "%cd stylegan2-pytorch"
      ],
      "metadata": {
        "id": "0G1wOVIfftJu"
      },
      "execution_count": null,
      "outputs": []
    },
    {
      "cell_type": "code",
      "source": [
        "from stylegan2_pytorch import ModelLoader"
      ],
      "metadata": {
        "id": "DsrlkETieFOp"
      },
      "execution_count": null,
      "outputs": []
    },
    {
      "cell_type": "code",
      "source": [
        "loader = ModelLoader(\n",
        "    base_dir=MODELS_DIR,\n",
        "    name='my_vintage_filter_project',\n",
        "    load_from=CHECKPOINT_NUMBER,\n",
        "    image_size=128\n",
        ")"
      ],
      "metadata": {
        "id": "QcuBpVdjf-ZF"
      },
      "execution_count": null,
      "outputs": []
    },
    {
      "cell_type": "code",
      "source": [
        "generator = loader.G.cuda()\n",
        "generator.eval()"
      ],
      "metadata": {
        "id": "2j3yBBu0gGbU"
      },
      "execution_count": null,
      "outputs": []
    },
    {
      "cell_type": "markdown",
      "source": [
        "# Загрузка фото"
      ],
      "metadata": {
        "id": "48_M3JuvgOP5"
      }
    },
    {
      "cell_type": "code",
      "source": [
        "try:\n",
        "    input_image_pil = Image.open(INPUT_IMAGE_PATH).convert(\"RGB\")\n",
        "    input_image_pil = input_image_pil.resize((loader.image_size, loader.image_size), Image.LANCZOS)\n",
        "    input_image_np = np.array(input_image_pil).transpose(2, 0, 1)\n",
        "    input_image_tensor = torch.from_numpy(input_image_np).float() / 255.0\n",
        "    input_image_tensor = (input_image_tensor * 2) - 1\n",
        "    input_image_tensor = input_image_tensor.unsqueeze(0).cuda()\n",
        "\n",
        "    print(f\"Входное изображение '{INPUT_IMAGE_PATH}' успешно загружено и подготовлено.\")\n",
        "\n",
        "except Exception as e:\n",
        "    print(f\"Ошибка при загрузке или подготовке входного изображения: {e}\")\n",
        "    exit()"
      ],
      "metadata": {
        "id": "uSHUu7vigJ8A"
      },
      "execution_count": null,
      "outputs": []
    },
    {
      "cell_type": "markdown",
      "source": [
        "# Инициализация случайного латентного вектора"
      ],
      "metadata": {
        "id": "eO2eRT8qgfEs"
      }
    },
    {
      "cell_type": "code",
      "source": [
        "latent_vector_z = torch.randn(1, loader.latent_dim, requires_grad=True, device='cuda')"
      ],
      "metadata": {
        "id": "Jffs3-8FgbSI"
      },
      "execution_count": null,
      "outputs": []
    },
    {
      "cell_type": "code",
      "source": [
        "optimizer = torch.optim.Adam([latent_vector_z], lr=LEARNING_RATE)"
      ],
      "metadata": {
        "id": "WwpsJRsrgpMh"
      },
      "execution_count": null,
      "outputs": []
    },
    {
      "cell_type": "code",
      "source": [
        "for i in range(NUM_ITERATIONS):\n",
        "    optimizer.zero_grad()\n",
        "    styles = loader.noise_to_styles(latent_vector_z, trunc_psi=TRUNC_PSI)\n",
        "    generated_image = loader.styles_to_images(styles)\n",
        "    loss_lpips = loss_fn_lpips(generated_image, input_image_tensor).mean()\n",
        "    loss_l2 = torch.mean((generated_image - input_image_tensor)**2)\n",
        "    total_loss = LAMBDA_LPIPS * loss_lpips + LAMBDA_L2 * loss_l2\n",
        "\n",
        "    total_loss.backward()\n",
        "    optimizer.step()"
      ],
      "metadata": {
        "id": "rVQ5WCX_groN"
      },
      "execution_count": null,
      "outputs": []
    },
    {
      "cell_type": "code",
      "source": [
        "if (i + 1) % 100 == 0 or i == 0:\n",
        "        print(f\"Итерация {i+1}/{NUM_ITERATIONS}, Общая потеря: {total_loss.item():.4f}, LPIPS: {loss_lpips.item():.4f}, L2: {loss_l2.item():.4f}\")"
      ],
      "metadata": {
        "id": "fhMYKJpmhASJ"
      },
      "execution_count": null,
      "outputs": []
    },
    {
      "cell_type": "markdown",
      "source": [
        "# Сохранение фото"
      ],
      "metadata": {
        "id": "x6WQYn9PhIIK"
      }
    },
    {
      "cell_type": "code",
      "source": [
        "final_generated_image = generated_image.detach().cpu()"
      ],
      "metadata": {
        "id": "qhUn4HPRhHy5"
      },
      "execution_count": null,
      "outputs": []
    },
    {
      "cell_type": "code",
      "source": [
        "final_image_to_save = (final_generated_image + 1) * 0.5"
      ],
      "metadata": {
        "id": "YJNF-G_ThNhT"
      },
      "execution_count": null,
      "outputs": []
    },
    {
      "cell_type": "code",
      "source": [
        "output_image_name = os.path.splitext(os.path.basename(INPUT_IMAGE_PATH))[0] + \"_vintage_projected.jpg\"\n",
        "output_full_path = os.path.join(OUTPUT_DIR, output_image_name)\n",
        "save_image(final_image_to_save, output_full_path)"
      ],
      "metadata": {
        "id": "4uJDQUjGhQUK"
      },
      "execution_count": null,
      "outputs": []
    },
    {
      "cell_type": "code",
      "source": [
        "fig, axes = plt.subplots(1, 2, figsize=(10, 5))\n",
        "axes[0].imshow(input_image_pil)\n",
        "axes[0].set_title(\"Исходное фото\")\n",
        "axes[0].axis('off')"
      ],
      "metadata": {
        "id": "DeqzTkKUhUZZ"
      },
      "execution_count": null,
      "outputs": []
    },
    {
      "cell_type": "code",
      "source": [
        "display_generated_image = (final_generated_image.squeeze(0).permute(1, 2, 0).numpy() * 255).astype(np.uint8)\n",
        "axes[1].imshow(display_generated_image)\n",
        "axes[1].set_title(\"Винтажное фото (проекция StyleGAN)\")\n",
        "axes[1].axis('off')\n",
        "\n",
        "plt.show()"
      ],
      "metadata": {
        "id": "doV9ut6vhVj-"
      },
      "execution_count": null,
      "outputs": []
    }
  ]
}